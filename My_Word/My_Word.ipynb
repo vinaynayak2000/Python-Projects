{
  "nbformat": 4,
  "nbformat_minor": 0,
  "metadata": {
    "colab": {
      "name": "My_Word.ipynb",
      "provenance": [],
      "authorship_tag": "ABX9TyPOugNuQREyeqBwKFc/fJNs",
      "include_colab_link": true
    },
    "kernelspec": {
      "name": "python3",
      "display_name": "Python 3"
    },
    "language_info": {
      "name": "python"
    }
  },
  "cells": [
    {
      "cell_type": "markdown",
      "metadata": {
        "id": "view-in-github",
        "colab_type": "text"
      },
      "source": [
        "<a href=\"https://colab.research.google.com/github/vinaynayak2000/Python-Projects/blob/main/My_Word/My_Word.ipynb\" target=\"_parent\"><img src=\"https://colab.research.google.com/assets/colab-badge.svg\" alt=\"Open In Colab\"/></a>"
      ]
    },
    {
      "cell_type": "code",
      "source": [
        "user_name = input(\"Enter your name: \")"
      ],
      "metadata": {
        "colab": {
          "base_uri": "https://localhost:8080/"
        },
        "id": "Uq9bIyXIP0SE",
        "outputId": "250c584e-cae4-4828-fbda-00d97edeeadd"
      },
      "execution_count": 58,
      "outputs": [
        {
          "name": "stdout",
          "output_type": "stream",
          "text": [
            "Enter your name: Ameya\n"
          ]
        }
      ]
    },
    {
      "cell_type": "code",
      "source": [
        "developer_name = \"Vinay Nayak\""
      ],
      "metadata": {
        "id": "QhzXqGRaP0EG"
      },
      "execution_count": 59,
      "outputs": []
    },
    {
      "cell_type": "code",
      "source": [
        "country = \"Canada\""
      ],
      "metadata": {
        "id": "9U6MD2r2P0U8"
      },
      "execution_count": 60,
      "outputs": []
    },
    {
      "cell_type": "code",
      "execution_count": 61,
      "metadata": {
        "colab": {
          "base_uri": "https://localhost:8080/"
        },
        "id": "ulnVtNB9M1p7",
        "outputId": "cba38218-5beb-439b-c073-56fe240ada10"
      },
      "outputs": [
        {
          "output_type": "stream",
          "name": "stdout",
          "text": [
            "Hi Ameya\n",
            "My name is Vinay Nayak\n",
            "I am from India. Welcome to Canada :).\n"
          ]
        }
      ],
      "source": [
        "print(\"Hi \" +user_name)\n",
        "print( f\"My name is {developer_name}\")\n",
        "print(\"I am from India. Welcome to {} :).\".format(country))"
      ]
    },
    {
      "cell_type": "code",
      "source": [
        ""
      ],
      "metadata": {
        "id": "jpTnRUEzP0O8"
      },
      "execution_count": 61,
      "outputs": []
    },
    {
      "cell_type": "code",
      "source": [
        ""
      ],
      "metadata": {
        "id": "svU1EC3fPzzl"
      },
      "execution_count": 61,
      "outputs": []
    }
  ]
}